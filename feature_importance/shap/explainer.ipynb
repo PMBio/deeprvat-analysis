{
 "cells": [
  {
   "cell_type": "markdown",
   "id": "5f03ac0f-d9bf-4509-bd3e-f8d1812e0076",
   "metadata": {},
   "source": [
    "### Feature importance plots"
   ]
  },
  {
   "cell_type": "code",
   "execution_count": 1,
   "id": "f7e5ddba-6535-44b6-9619-5eefb85daba7",
   "metadata": {},
   "outputs": [],
   "source": [
    "import autoreload\n",
    "%load_ext autoreload\n",
    "%autoreload 1\n",
    "%matplotlib inline"
   ]
  },
  {
   "cell_type": "code",
   "execution_count": 2,
   "id": "801df199-437b-49ad-9205-24158dbff95e",
   "metadata": {},
   "outputs": [],
   "source": [
    "import numpy as np\n",
    "import pandas as pd\n",
    "import os\n",
    "from plotnine import *\n",
    "import glob\n",
    "import yaml\n",
    "import pickle\n",
    "import utils"
   ]
  },
  {
   "cell_type": "code",
   "execution_count": 3,
   "id": "b5e07eac-b804-4316-99f2-06d79b1263c6",
   "metadata": {},
   "outputs": [],
   "source": [
    "annotation_names = utils.ANNOTATION_NAMES\n",
    "binary_annots_to_remove = list(utils.BINARY_ANNOTATION_CATEGORIES.keys())"
   ]
  },
  {
   "cell_type": "markdown",
   "id": "abc487a0-cfc9-4ace-9cc2-51931a9a32c7",
   "metadata": {},
   "source": [
    "### Reading raw files "
   ]
  },
  {
   "cell_type": "code",
   "execution_count": 4,
   "id": "b6fe9ed5-da10-4a0d-83f9-e59bc096f61e",
   "metadata": {},
   "outputs": [],
   "source": [
    "importance_by_sampling = {}\n",
    "rel_importance_by_sampling = {}\n",
    "# provide the path of raw files \n",
    "# ~/experiments/rvat/multipheno_feature_importance/shap\n",
    "experiments_dir = '~/geno2pheno/genopheno/experiments/explain_shap/'\n",
    "if not os.path.exists('shap_score_per_sampling.pkl'):\n",
    "    for sampling_dir in glob.glob(f'{experiments_dir}[!_]*/'):\n",
    "        sample_no = os.path.basename(sampling_dir[:-1])\n",
    "        per_repeat_importance = utils.collect_repeats_in_one_sampling(sampling_dir, \n",
    "                                                          annotation_names)\n",
    "        agg_importance = utils.agg_over_repeats(per_repeat_importance)\n",
    "        agg_importance_arr = np.array([v for v in agg_importance.values()])\n",
    "        agg_over_pheno = np.mean(agg_importance_arr, axis=0)\n",
    "        importance_by_sampling[sample_no] = agg_over_pheno\n",
    "        rel_importance_by_sampling[sample_no] = agg_over_pheno / np.max(agg_over_pheno)\n",
    "    \n",
    "    \n",
    "    with open('shap_score_per_sampling.pkl', 'wb') as f:\n",
    "        pickle.dump(importance_by_sampling, f)\n",
    "        \n",
    "    with open('shap_relative_per_sampling.pkl', 'wb') as f:\n",
    "        pickle.dump(rel_importance_by_sampling, f)\n"
   ]
  },
  {
   "cell_type": "markdown",
   "id": "93878f03-e1f9-4f3e-b7a6-4a56dbf3cf03",
   "metadata": {},
   "source": [
    "### Feature importance analysis."
   ]
  },
  {
   "cell_type": "code",
   "execution_count": 5,
   "id": "03806525-0b4b-4fab-9454-1adb1718ba51",
   "metadata": {},
   "outputs": [],
   "source": [
    "# Generates plot Supp. Fig. 3.7 & 3.8 "
   ]
  },
  {
   "cell_type": "code",
   "execution_count": 6,
   "id": "7ef197d7-1354-4f2b-890f-557466ad8374",
   "metadata": {},
   "outputs": [
    {
     "data": {
      "text/html": [
       "<div>\n",
       "<style scoped>\n",
       "    .dataframe tbody tr th:only-of-type {\n",
       "        vertical-align: middle;\n",
       "    }\n",
       "\n",
       "    .dataframe tbody tr th {\n",
       "        vertical-align: top;\n",
       "    }\n",
       "\n",
       "    .dataframe thead th {\n",
       "        text-align: right;\n",
       "    }\n",
       "</style>\n",
       "<table border=\"1\" class=\"dataframe\">\n",
       "  <thead>\n",
       "    <tr style=\"text-align: right;\">\n",
       "      <th></th>\n",
       "      <th>importance</th>\n",
       "      <th>annotation</th>\n",
       "      <th>anno_code</th>\n",
       "      <th>anno_category</th>\n",
       "      <th>anno_print</th>\n",
       "    </tr>\n",
       "  </thead>\n",
       "  <tbody>\n",
       "    <tr>\n",
       "      <th>0</th>\n",
       "      <td>1.000000</td>\n",
       "      <td>combined_UKB_NFE_AF_MB</td>\n",
       "      <td>1</td>\n",
       "      <td>UKB MAF</td>\n",
       "      <td>UKB MAF</td>\n",
       "    </tr>\n",
       "    <tr>\n",
       "      <th>1</th>\n",
       "      <td>0.942073</td>\n",
       "      <td>CADD_raw</td>\n",
       "      <td>2</td>\n",
       "      <td>CADD raw</td>\n",
       "      <td>CADD raw</td>\n",
       "    </tr>\n",
       "    <tr>\n",
       "      <th>2</th>\n",
       "      <td>0.227709</td>\n",
       "      <td>sift_score</td>\n",
       "      <td>9</td>\n",
       "      <td>Protein function</td>\n",
       "      <td>sift score</td>\n",
       "    </tr>\n",
       "    <tr>\n",
       "      <th>3</th>\n",
       "      <td>0.154546</td>\n",
       "      <td>polyphen_score</td>\n",
       "      <td>9</td>\n",
       "      <td>Protein function</td>\n",
       "      <td>polyphen score</td>\n",
       "    </tr>\n",
       "    <tr>\n",
       "      <th>4</th>\n",
       "      <td>0.212646</td>\n",
       "      <td>condel_score</td>\n",
       "      <td>9</td>\n",
       "      <td>Protein function</td>\n",
       "      <td>condel score</td>\n",
       "    </tr>\n",
       "  </tbody>\n",
       "</table>\n",
       "</div>"
      ],
      "text/plain": [
       "   importance              annotation  anno_code     anno_category  \\\n",
       "0    1.000000  combined_UKB_NFE_AF_MB          1           UKB MAF   \n",
       "1    0.942073                CADD_raw          2          CADD raw   \n",
       "2    0.227709              sift_score          9  Protein function   \n",
       "3    0.154546          polyphen_score          9  Protein function   \n",
       "4    0.212646            condel_score          9  Protein function   \n",
       "\n",
       "       anno_print  \n",
       "0         UKB MAF  \n",
       "1        CADD raw  \n",
       "2      sift score  \n",
       "3  polyphen score  \n",
       "4    condel score  "
      ]
     },
     "execution_count": 6,
     "metadata": {},
     "output_type": "execute_result"
    }
   ],
   "source": [
    "with open('shap_score_per_sampling.pkl', \"rb\") as f:\n",
    "    importance_by_sampling = pickle.load(f)\n",
    "\n",
    "per_sample_df = pd.DataFrame(importance_by_sampling)\n",
    "agg_over_samples = per_sample_df.mean(axis=1)\n",
    "agg_importance_df = pd.DataFrame({'importance': agg_over_samples,\n",
    "                                  'annotation': annotation_names})\n",
    "agg_importance_df['importance'] = agg_importance_df.importance / np.max(\n",
    "                                                 agg_importance_df.importance )\n",
    "binary_mask = agg_importance_df.annotation.isin(binary_annots_to_remove)\n",
    "agg_importance_df = agg_importance_df.loc[~binary_mask, ].reset_index(drop=True)\n",
    "agg_importance_df = utils.add_plot_helper_columns(agg_importance_df)\n",
    "agg_importance_df.head()"
   ]
  },
  {
   "cell_type": "code",
   "execution_count": 7,
   "id": "f464c311-c567-4758-8eed-320177205617",
   "metadata": {},
   "outputs": [
    {
     "name": "stderr",
     "output_type": "stream",
     "text": [
      "findfont: Font family ['Helvetica'] not found. Falling back to DejaVu Sans.\n"
     ]
    }
   ],
   "source": [
    "plot_font = element_text(size = 8, family = \"Helvetica\")\n",
    "\n",
    "p1 = ( ggplot(agg_importance_df, aes(x='reorder(anno_print, anno_code)', \n",
    "                                             y='importance',  \n",
    "                                             fill='annotation'))\n",
    "            + geom_bar(stat = 'identity')\n",
    "            #+ facet_wrap('variable', nrow = 3 )\n",
    "            + theme_classic()\n",
    "            + theme(subplots_adjust={'wspace': 0.1, 'hspace': 0.25}, \n",
    "                    axis_text_x=element_text(rotation=45, hjust=1),\n",
    "                    #axis_text_x=element_blank(),\n",
    "                    #text=element_text(size=30),\n",
    "                    text = plot_font,\n",
    "                    axis_text = plot_font,\n",
    "                    axis_title = plot_font,\n",
    "                    legend_position='top',\n",
    "                    figure_size=(10, 8)\n",
    "                   )\n",
    "            + scale_fill_manual(values=utils.QUANT_COLOR_LIST, \n",
    "                               breaks = list(utils.ANNOTATION_CODES.keys()),\n",
    "                               labels = list(utils.ANNOTATION_CATEGORIES.values())\n",
    "                               )\n",
    "            + labs(x='Quantitative annotation', y='Relative |SHAP importance|')\n",
    "        )\n",
    "ggsave(plot=p1, filename='quantitative_importance_individual.pdf', \n",
    "                   limitsize=False, verbose = False)"
   ]
  },
  {
   "cell_type": "markdown",
   "id": "1eed17d2-ae10-4e6d-9ea3-5f4a81a2def6",
   "metadata": {},
   "source": [
    "### Plot relative importance per sampling "
   ]
  },
  {
   "cell_type": "code",
   "execution_count": 8,
   "id": "b29f0456-7867-4b31-b95f-0f4b5f1c8af5",
   "metadata": {},
   "outputs": [
    {
     "data": {
      "text/html": [
       "<div>\n",
       "<style scoped>\n",
       "    .dataframe tbody tr th:only-of-type {\n",
       "        vertical-align: middle;\n",
       "    }\n",
       "\n",
       "    .dataframe tbody tr th {\n",
       "        vertical-align: top;\n",
       "    }\n",
       "\n",
       "    .dataframe thead th {\n",
       "        text-align: right;\n",
       "    }\n",
       "</style>\n",
       "<table border=\"1\" class=\"dataframe\">\n",
       "  <thead>\n",
       "    <tr style=\"text-align: right;\">\n",
       "      <th></th>\n",
       "      <th>annotation</th>\n",
       "      <th>variable</th>\n",
       "      <th>value</th>\n",
       "      <th>anno_code</th>\n",
       "      <th>anno_category</th>\n",
       "      <th>anno_print</th>\n",
       "    </tr>\n",
       "  </thead>\n",
       "  <tbody>\n",
       "    <tr>\n",
       "      <th>0</th>\n",
       "      <td>combined_UKB_NFE_AF_MB</td>\n",
       "      <td>sample_7</td>\n",
       "      <td>1.000000</td>\n",
       "      <td>1</td>\n",
       "      <td>UKB MAF</td>\n",
       "      <td>UKB MAF</td>\n",
       "    </tr>\n",
       "    <tr>\n",
       "      <th>1</th>\n",
       "      <td>CADD_raw</td>\n",
       "      <td>sample_7</td>\n",
       "      <td>0.928841</td>\n",
       "      <td>2</td>\n",
       "      <td>CADD raw</td>\n",
       "      <td>CADD raw</td>\n",
       "    </tr>\n",
       "    <tr>\n",
       "      <th>2</th>\n",
       "      <td>sift_score</td>\n",
       "      <td>sample_7</td>\n",
       "      <td>0.222988</td>\n",
       "      <td>9</td>\n",
       "      <td>Protein function</td>\n",
       "      <td>sift score</td>\n",
       "    </tr>\n",
       "    <tr>\n",
       "      <th>3</th>\n",
       "      <td>polyphen_score</td>\n",
       "      <td>sample_7</td>\n",
       "      <td>0.155830</td>\n",
       "      <td>9</td>\n",
       "      <td>Protein function</td>\n",
       "      <td>polyphen score</td>\n",
       "    </tr>\n",
       "    <tr>\n",
       "      <th>4</th>\n",
       "      <td>condel_score</td>\n",
       "      <td>sample_7</td>\n",
       "      <td>0.215109</td>\n",
       "      <td>9</td>\n",
       "      <td>Protein function</td>\n",
       "      <td>condel score</td>\n",
       "    </tr>\n",
       "  </tbody>\n",
       "</table>\n",
       "</div>"
      ],
      "text/plain": [
       "               annotation  variable     value  anno_code     anno_category  \\\n",
       "0  combined_UKB_NFE_AF_MB  sample_7  1.000000          1           UKB MAF   \n",
       "1                CADD_raw  sample_7  0.928841          2          CADD raw   \n",
       "2              sift_score  sample_7  0.222988          9  Protein function   \n",
       "3          polyphen_score  sample_7  0.155830          9  Protein function   \n",
       "4            condel_score  sample_7  0.215109          9  Protein function   \n",
       "\n",
       "       anno_print  \n",
       "0         UKB MAF  \n",
       "1        CADD raw  \n",
       "2      sift score  \n",
       "3  polyphen score  \n",
       "4    condel score  "
      ]
     },
     "execution_count": 8,
     "metadata": {},
     "output_type": "execute_result"
    }
   ],
   "source": [
    "with open('shap_relative_per_sampling.pkl', \"rb\") as f:\n",
    "    rel_importance_by_sampling = pickle.load(f)\n",
    "    \n",
    "per_sample_df = pd.DataFrame(rel_importance_by_sampling)\n",
    "per_sample_df['annotation'] = annotation_names\n",
    "binary_mask = per_sample_df.annotation.isin(binary_annots_to_remove)\n",
    "per_sample_df = per_sample_df.loc[~binary_mask, ].reset_index(drop=True)\n",
    "\n",
    "## melt to plot\n",
    "melted_per_sample_df = pd.melt(per_sample_df, id_vars=['annotation'], \n",
    "        value_vars=list(set(per_sample_df.columns)-set(['annotation'])))\n",
    "\n",
    "## columns to help plots\n",
    "melted_per_sample_df = utils.add_plot_helper_columns(melted_per_sample_df)\n",
    "melted_per_sample_df.head()"
   ]
  },
  {
   "cell_type": "code",
   "execution_count": 9,
   "id": "82c1353b-5121-4221-b153-3f6d86ad3eb7",
   "metadata": {},
   "outputs": [],
   "source": [
    "p = ( ggplot(melted_per_sample_df)\n",
    "            + geom_boxplot(aes(x='reorder(anno_print, anno_code)', y='value', \n",
    "                           fill='annotation')) ## variable # fill='variable'\n",
    "            + theme_classic()\n",
    "            #+ facet_wrap('variable')\n",
    "            + theme(axis_text_x=element_text(rotation=45, hjust=1),\n",
    "                    #text=element_text(size=20),\n",
    "                    figure_size=(10, 8),\n",
    "                    text = plot_font,\n",
    "                    axis_text = plot_font,\n",
    "                    axis_title = plot_font,\n",
    "                    legend_title=element_blank(),\n",
    "                    legend_position='none'\n",
    "                   )\n",
    "            + scale_fill_manual(values=utils.QUANT_COLOR_LIST, \n",
    "                               breaks = list(utils.ANNOTATION_CODES.keys()),\n",
    "                               labels = list(utils.ANNOTATION_CATEGORIES.values()),\n",
    "                               #guide=True\n",
    "                               )\n",
    "            + labs(x='Annotation', y='Relative |SHAP importance|')\n",
    ")\n",
    "ggsave(plot=p, filename='quantitative_importance_per_sampling.pdf', \n",
    "                   limitsize=False, verbose = False)"
   ]
  },
  {
   "cell_type": "code",
   "execution_count": null,
   "id": "7cf2372f-5799-4bda-965b-8aabe3c462f3",
   "metadata": {},
   "outputs": [],
   "source": []
  },
  {
   "cell_type": "code",
   "execution_count": null,
   "id": "835ec09a-908f-44aa-92b5-12f8217bc2db",
   "metadata": {},
   "outputs": [],
   "source": []
  }
 ],
 "metadata": {
  "kernelspec": {
   "display_name": "krgenopheno3",
   "language": "python",
   "name": "krgenopheno3"
  },
  "language_info": {
   "codemirror_mode": {
    "name": "ipython",
    "version": 3
   },
   "file_extension": ".py",
   "mimetype": "text/x-python",
   "name": "python",
   "nbconvert_exporter": "python",
   "pygments_lexer": "ipython3",
   "version": "3.8.10"
  }
 },
 "nbformat": 4,
 "nbformat_minor": 5
}
