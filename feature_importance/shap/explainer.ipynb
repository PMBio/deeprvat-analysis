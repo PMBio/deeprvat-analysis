{
 "cells": [
  {
   "cell_type": "markdown",
   "id": "5f03ac0f-d9bf-4509-bd3e-f8d1812e0076",
   "metadata": {},
   "source": [
    "## SHAP-based feature importance plots"
   ]
  },
  {
   "cell_type": "code",
   "execution_count": null,
   "id": "f7e5ddba-6535-44b6-9619-5eefb85daba7",
   "metadata": {},
   "outputs": [],
   "source": [
    "import autoreload\n",
    "%load_ext autoreload\n",
    "%autoreload 1\n",
    "%matplotlib inline"
   ]
  },
  {
   "cell_type": "code",
   "execution_count": null,
   "id": "801df199-437b-49ad-9205-24158dbff95e",
   "metadata": {},
   "outputs": [],
   "source": [
    "import numpy as np\n",
    "import pandas as pd\n",
    "import os\n",
    "from plotnine import *\n",
    "import glob\n",
    "import yaml\n",
    "import pickle\n",
    "import utils"
   ]
  },
  {
   "cell_type": "code",
   "execution_count": null,
   "id": "b5e07eac-b804-4316-99f2-06d79b1263c6",
   "metadata": {},
   "outputs": [],
   "source": [
    "annotation_names = utils.ANNOTATION_NAMES\n",
    "binary_annots_to_remove = list(utils.BINARY_ANNOTATION_CATEGORIES.keys())"
   ]
  },
  {
   "cell_type": "markdown",
   "id": "abc487a0-cfc9-4ace-9cc2-51931a9a32c7",
   "metadata": {},
   "source": [
    "### Generating aggreated raw files "
   ]
  },
  {
   "cell_type": "markdown",
   "id": "74d384b4-f78b-4d04-b85f-a119d86edb91",
   "metadata": {},
   "source": [
    "  * You need to run `explain.snakefile` to be able to run the below script. Snakemake pipeline will generate 15 directories (e.g. `sample_1`... `sample_15`) corresponding to different train and test samplings used for SHAP, each containing SHAP scores for 6 repeats of the model. The below script will aggregate these scores across repeats and samplings. \n",
    "\n",
    "  * You can skip the below script and directly jump to `Feature importance analysis` part if you just want to re-generate the plots in the paper from the pre-computed & pre-aggregated `.pkl` files. \n"
   ]
  },
  {
   "cell_type": "code",
   "execution_count": null,
   "id": "b6fe9ed5-da10-4a0d-83f9-e59bc096f61e",
   "metadata": {},
   "outputs": [],
   "source": [
    "importance_by_sampling = {}\n",
    "rel_importance_by_sampling = {}\n",
    "# your own path\n",
    "path_to_deeprvat_analysis = ''\n",
    "exp_dir = f'{path_to_deeprvat_analysis}/deeprvat-analysis/feature_importance/shap'\n",
    "if not os.path.exists(f'{exp_dir}/shap_score_per_sampling.pkl'):\n",
    "    for sampling_dir in glob.glob(f'{exp_dir}/sample*/'):\n",
    "        sample_no = os.path.basename(sampling_dir[:-1])\n",
    "        per_repeat_importance = utils.collect_repeats_in_one_sampling(sampling_dir, \n",
    "                                                              annotation_names)\n",
    "        agg_importance = utils.agg_over_repeats(per_repeat_importance)\n",
    "        agg_importance_arr = np.array([v for v in agg_importance.values()])\n",
    "        agg_over_pheno = np.mean(agg_importance_arr, axis=0)\n",
    "        importance_by_sampling[sample_no] = agg_over_pheno\n",
    "        rel_importance_by_sampling[sample_no] = agg_over_pheno / np.max(agg_over_pheno)\n",
    "\n",
    "    \n",
    "    with open(f'{exp_dir}/shap_score_per_sampling.pkl', 'wb') as f:\n",
    "        pickle.dump(importance_by_sampling, f)\n",
    "        \n",
    "    with open(f'{exp_dir}/shap_relative_per_sampling.pkl', 'wb') as f:\n",
    "        pickle.dump(rel_importance_by_sampling, f)\n"
   ]
  },
  {
   "cell_type": "markdown",
   "id": "93878f03-e1f9-4f3e-b7a6-4a56dbf3cf03",
   "metadata": {},
   "source": [
    "### Feature importance analysis."
   ]
  },
  {
   "cell_type": "code",
   "execution_count": null,
   "id": "03806525-0b4b-4fab-9454-1adb1718ba51",
   "metadata": {},
   "outputs": [],
   "source": [
    "# Generates plot Supp. Fig. 3.7 & 3.8 "
   ]
  },
  {
   "cell_type": "code",
   "execution_count": null,
   "id": "7ef197d7-1354-4f2b-890f-557466ad8374",
   "metadata": {},
   "outputs": [],
   "source": [
    "with open(f'{exp_dir}/shap_score_per_sampling.pkl', \"rb\") as f:\n",
    "    importance_by_sampling = pickle.load(f)\n",
    "\n",
    "per_sample_df = pd.DataFrame(importance_by_sampling)\n",
    "agg_over_samples = per_sample_df.mean(axis=1)\n",
    "agg_importance_df = pd.DataFrame({'importance': agg_over_samples,\n",
    "                                  'annotation': annotation_names})\n",
    "agg_importance_df['importance'] = agg_importance_df.importance / np.max(\n",
    "                                                 agg_importance_df.importance )\n",
    "binary_mask = agg_importance_df.annotation.isin(binary_annots_to_remove)\n",
    "agg_importance_df = agg_importance_df.loc[~binary_mask, ].reset_index(drop=True)\n",
    "agg_importance_df = utils.add_plot_helper_columns(agg_importance_df)\n",
    "agg_importance_df.head()"
   ]
  },
  {
   "cell_type": "code",
   "execution_count": null,
   "id": "f464c311-c567-4758-8eed-320177205617",
   "metadata": {},
   "outputs": [],
   "source": [
    "plot_font = element_text(size = 8, family = \"Helvetica\")\n",
    "\n",
    "p1 = ( ggplot(agg_importance_df, aes(x='reorder(anno_print, anno_code)', \n",
    "                                             y='importance',  \n",
    "                                             fill='annotation'))\n",
    "            + geom_bar(stat = 'identity')\n",
    "            #+ facet_wrap('variable', nrow = 3 )\n",
    "            + theme_classic()\n",
    "            + theme(subplots_adjust={'wspace': 0.1, 'hspace': 0.25}, \n",
    "                    axis_text_x=element_text(rotation=45, hjust=1),\n",
    "                    #axis_text_x=element_blank(),\n",
    "                    #text=element_text(size=30),\n",
    "                    text = plot_font,\n",
    "                    axis_text = plot_font,\n",
    "                    axis_title = plot_font,\n",
    "                    legend_position='top',\n",
    "                    figure_size=(10, 8)\n",
    "                   )\n",
    "            + scale_fill_manual(values=utils.QUANT_COLOR_LIST, \n",
    "                               breaks = list(utils.ANNOTATION_CODES.keys()),\n",
    "                               labels = list(utils.ANNOTATION_CATEGORIES.values())\n",
    "                               )\n",
    "            + labs(x='Quantitative annotation', y='Relative |SHAP importance|')\n",
    "        )\n",
    "ggsave(plot=p1, limitsize=False, verbose = False,\n",
    "       filename=f'{exp_dir}/quantitative_importance_individual.pdf')"
   ]
  },
  {
   "cell_type": "markdown",
   "id": "1eed17d2-ae10-4e6d-9ea3-5f4a81a2def6",
   "metadata": {},
   "source": [
    "### Plot relative importance per sampling "
   ]
  },
  {
   "cell_type": "code",
   "execution_count": null,
   "id": "b29f0456-7867-4b31-b95f-0f4b5f1c8af5",
   "metadata": {},
   "outputs": [],
   "source": [
    "with open(f'{exp_dir}/shap_relative_per_sampling.pkl', \"rb\") as f:\n",
    "    rel_importance_by_sampling = pickle.load(f)\n",
    "    \n",
    "per_sample_df = pd.DataFrame(rel_importance_by_sampling)\n",
    "per_sample_df['annotation'] = annotation_names\n",
    "binary_mask = per_sample_df.annotation.isin(binary_annots_to_remove)\n",
    "per_sample_df = per_sample_df.loc[~binary_mask, ].reset_index(drop=True)\n",
    "\n",
    "## melt to plot\n",
    "melted_per_sample_df = pd.melt(per_sample_df, id_vars=['annotation'], \n",
    "        value_vars=list(set(per_sample_df.columns)-set(['annotation'])))\n",
    "\n",
    "## columns to help plots\n",
    "melted_per_sample_df = utils.add_plot_helper_columns(melted_per_sample_df)\n",
    "melted_per_sample_df.head()"
   ]
  },
  {
   "cell_type": "code",
   "execution_count": null,
   "id": "82c1353b-5121-4221-b153-3f6d86ad3eb7",
   "metadata": {},
   "outputs": [],
   "source": [
    "p = ( ggplot(melted_per_sample_df)\n",
    "            + geom_boxplot(aes(x='reorder(anno_print, anno_code)', y='value', \n",
    "                           fill='annotation')) ## variable # fill='variable'\n",
    "            + theme_classic()\n",
    "            #+ facet_wrap('variable')\n",
    "            + theme(axis_text_x=element_text(rotation=45, hjust=1),\n",
    "                    #text=element_text(size=20),\n",
    "                    figure_size=(10, 8),\n",
    "                    text = plot_font,\n",
    "                    axis_text = plot_font,\n",
    "                    axis_title = plot_font,\n",
    "                    legend_title=element_blank(),\n",
    "                    legend_position='none'\n",
    "                   )\n",
    "            + scale_fill_manual(values=utils.QUANT_COLOR_LIST, \n",
    "                               breaks = list(utils.ANNOTATION_CODES.keys()),\n",
    "                               labels = list(utils.ANNOTATION_CATEGORIES.values()),\n",
    "                               #guide=True\n",
    "                               )\n",
    "            + labs(x='Annotation', y='Relative |SHAP importance|')\n",
    ")\n",
    "ggsave(plot=p, filename=f'{exp_dir}/quantitative_importance_per_sampling.pdf', \n",
    "                   limitsize=False, verbose = False)"
   ]
  },
  {
   "cell_type": "code",
   "execution_count": null,
   "id": "7cf2372f-5799-4bda-965b-8aabe3c462f3",
   "metadata": {},
   "outputs": [],
   "source": [
    "# the end."
   ]
  }
 ],
 "metadata": {
  "kernelspec": {
   "display_name": "krtadpy38",
   "language": "python",
   "name": "krtadpy38"
  },
  "language_info": {
   "codemirror_mode": {
    "name": "ipython",
    "version": 3
   },
   "file_extension": ".py",
   "mimetype": "text/x-python",
   "name": "python",
   "nbconvert_exporter": "python",
   "pygments_lexer": "ipython3",
   "version": "3.8.10"
  }
 },
 "nbformat": 4,
 "nbformat_minor": 5
}
