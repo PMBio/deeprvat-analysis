{
 "cells": [
  {
   "cell_type": "markdown",
   "id": "5f03ac0f-d9bf-4509-bd3e-f8d1812e0076",
   "metadata": {},
   "source": [
    "### Annotation analysis"
   ]
  },
  {
   "cell_type": "code",
   "execution_count": 1,
   "id": "13fa8de7-7770-4b8e-802d-c914a72978ff",
   "metadata": {},
   "outputs": [],
   "source": [
    "import autoreload\n",
    "%load_ext autoreload\n",
    "%autoreload 1"
   ]
  },
  {
   "cell_type": "code",
   "execution_count": 2,
   "id": "801df199-437b-49ad-9205-24158dbff95e",
   "metadata": {},
   "outputs": [],
   "source": [
    "import numpy as np\n",
    "import pandas as pd\n",
    "import pandas.api.types as pdtypes\n",
    "import glob\n",
    "import pickle\n",
    "import os\n",
    "from plotnine import *\n",
    "import utils"
   ]
  },
  {
   "cell_type": "markdown",
   "id": "b5857b65-97d5-4196-a055-3d5ccd481547",
   "metadata": {},
   "source": [
    "#### Reading raw results"
   ]
  },
  {
   "cell_type": "code",
   "execution_count": null,
   "id": "d607e6e9-8311-4995-a4ae-527e94007a29",
   "metadata": {},
   "outputs": [],
   "source": [
    "# skip the following cell if you already have per_pheno_importance.csv"
   ]
  },
  {
   "cell_type": "code",
   "execution_count": 3,
   "id": "bc4bbb21-4e18-40ea-9190-aa1c874955e8",
   "metadata": {},
   "outputs": [],
   "source": [
    "# provide the path of raw files to [experiment_dir] generate csv file \n",
    "# ~/rvat/multipheno_feature_importance/mutagenesis\n",
    "experiments_dir = '~/genopheno/experiments/explain_mutagenesis/'\n",
    "if not os.path.exists('per_pheno_importance.csv'):\n",
    "    binary_annots = pd.DataFrame()\n",
    "    for annot_dir in glob.glob(f'{experiments_dir}*/'):\n",
    "        if ('__pycache__' not in annot_dir) and ('logs' not in annot_dir):\n",
    "            annot_code = os.path.basename(annot_dir[:-1])\n",
    "\n",
    "            df_results = pd.DataFrame()\n",
    "            for i, repeat_f in enumerate(glob.glob(f'{annot_dir}/*.pkl')):\n",
    "                with open(repeat_f, 'rb') as f:\n",
    "                    dict_pheno_results = pickle.load(f)\n",
    "                    pheno_results = [val[0] \n",
    "                                   for val in list(dict_pheno_results.values())]\n",
    "                    df_results[f'repeat_{i}'] = pheno_results\n",
    "                    df_results.index = list(dict_pheno_results.keys())\n",
    "\n",
    "            average= np.mean(df_results[df_results.columns], axis=1)\n",
    "            df_results[utils.BINARY_ANNOTATIONS[annot_code]] = average\n",
    "            binary_annots = pd.concat([binary_annots, \n",
    "                            df_results[utils.BINARY_ANNOTATIONS[annot_code]]], axis=1)\n",
    "    binary_annots.to_csv('per_pheno_importance.csv')"
   ]
  },
  {
   "cell_type": "markdown",
   "id": "408917ba-ad38-4c8b-8ea5-0b50f4481ee2",
   "metadata": {},
   "source": [
    "### Feature importance plots"
   ]
  },
  {
   "cell_type": "code",
   "execution_count": 19,
   "id": "2b27c20c-8c12-481d-964f-c22758c41225",
   "metadata": {},
   "outputs": [],
   "source": [
    "binary_annots = pd.read_csv('per_pheno_importance.csv')\n",
    "binary_annots = binary_annots.set_index(list(binary_annots)[0])"
   ]
  },
  {
   "cell_type": "code",
   "execution_count": 7,
   "id": "31e0be7a-3d0a-492a-b8de-a39a1e8296b7",
   "metadata": {},
   "outputs": [],
   "source": [
    "across_pheno_avg = binary_annots.mean(axis=0).to_frame().T\n",
    "annots_relative = across_pheno_avg.div(across_pheno_avg.max(axis=1), axis=0).T\n",
    "annots_relative = annots_relative.rename(columns={0: 'relative_importance'})\n",
    "annots_relative = annots_relative.merge(across_pheno_avg.T, \n",
    "                                        left_index=True, right_index=True)\n",
    "annots_relative = annots_relative.rename(columns={0: 'value_importance'})\n",
    "annots_relative['annotation'] = annots_relative.index\n",
    "annots_relative = utils.add_plot_helper_columns(annots_relative)"
   ]
  },
  {
   "cell_type": "code",
   "execution_count": 9,
   "id": "3324bbe5-04b1-4286-9561-334e80af3186",
   "metadata": {},
   "outputs": [],
   "source": [
    "## aggregating individual annotations to categories\n",
    "annots_category = annots_relative.groupby(['anno_category']).mean()\n",
    "annots_category['relative_importance'] = annots_category['value_importance'].div(\n",
    "                            annots_category['value_importance'].max(), axis=0)\n",
    "annots_category['category'] = annots_category.index"
   ]
  },
  {
   "cell_type": "markdown",
   "id": "83511b8b-0638-4908-a325-939361ab9499",
   "metadata": {},
   "source": [
    "#### Plots"
   ]
  },
  {
   "cell_type": "code",
   "execution_count": 13,
   "id": "cd97d702-f693-436d-856c-2802fd5c21b3",
   "metadata": {},
   "outputs": [],
   "source": [
    "plot_font = element_text(size = 8, family = \"Helvetica\")"
   ]
  },
  {
   "cell_type": "code",
   "execution_count": 16,
   "id": "d4796560-c320-4d35-97d0-09066f0c5787",
   "metadata": {},
   "outputs": [],
   "source": [
    "p = ( ggplot(annots_relative, \n",
    "                   aes(x='reorder(anno_print, anno_code)', y='relative_importance', \n",
    "                           fill='annotation'))\n",
    "            + geom_bar(stat = 'identity')\n",
    "            + theme_classic()\n",
    "            + theme(axis_text_x=element_text(rotation=45, hjust=1),\n",
    "                    #text=element_text(size=20),\n",
    "                    figure_size=(10, 8),\n",
    "                    text = plot_font,\n",
    "                    axis_text = plot_font,\n",
    "                    axis_title = plot_font,\n",
    "                    legend_title=element_blank(),\n",
    "                    legend_position='top'\n",
    "                   )\n",
    "            + scale_fill_manual(values=utils.BINARY_ANNO_COLOR_INDV_LIST, \n",
    "                               breaks = list(utils.BINARY_ANNOTATION_CODES.keys()),\n",
    "                               labels = list(utils.BINARY_ANNOTATION_CATEGORIES.values()),\n",
    "                               )\n",
    "            + labs(x='Binary annotation', y='Relative |absolute difference|')\n",
    "        )\n",
    "ggsave(plot=p, filename='binary_importance_by_annotation.pdf', \n",
    "                   limitsize=False, verbose = False)"
   ]
  },
  {
   "cell_type": "markdown",
   "id": "e5d3d66a-9a9c-410c-9864-77dddc1494ad",
   "metadata": {},
   "source": [
    "#### aggregate by annotation group"
   ]
  },
  {
   "cell_type": "code",
   "execution_count": 18,
   "id": "a9ddac50-392d-442f-95f6-ac59651c235a",
   "metadata": {},
   "outputs": [],
   "source": [
    "p = (ggplot(annots_category, \n",
    "                   aes(x='reorder(category, anno_code)', y='relative_importance', \n",
    "                           fill='category'))\n",
    "            + geom_bar(stat = 'identity')\n",
    "            + theme_classic()\n",
    "            + theme(axis_text_x=element_text(rotation=45, hjust=1),\n",
    "                    #text=element_text(size=20),\n",
    "                    figure_size=(10, 8),\n",
    "                    text = plot_font,\n",
    "                    axis_text = plot_font,\n",
    "                    axis_title = plot_font,\n",
    "                    legend_title=element_blank(),\n",
    "                    legend_position='none'\n",
    "                   )\n",
    "            + scale_fill_manual(values=utils.BINARY_ANNO_COLOR_GROUP_LIST, \n",
    "                               breaks = ['Protein function', 'pLof', 'Splicing', 'Inframe indels'],\n",
    "                               labels = ['Protein function', 'pLof', 'Splicing', 'Inframe indels'],\n",
    "                               #guide=True\n",
    "                               )\n",
    "            + labs(x='Binary annotation groups',\n",
    "                   y='Relative |average absolute difference per category|')\n",
    "        )\n",
    "ggsave(plot=p, filename='binary_importance_by_category.pdf', \n",
    "                   limitsize=False, verbose = False)"
   ]
  },
  {
   "cell_type": "code",
   "execution_count": null,
   "id": "44f71778-bcba-4b7e-b8f4-c6752adb16da",
   "metadata": {},
   "outputs": [],
   "source": []
  }
 ],
 "metadata": {
  "kernelspec": {
   "display_name": "krgenopheno3",
   "language": "python",
   "name": "krgenopheno3"
  },
  "language_info": {
   "codemirror_mode": {
    "name": "ipython",
    "version": 3
   },
   "file_extension": ".py",
   "mimetype": "text/x-python",
   "name": "python",
   "nbconvert_exporter": "python",
   "pygments_lexer": "ipython3",
   "version": "3.8.10"
  }
 },
 "nbformat": 4,
 "nbformat_minor": 5
}
