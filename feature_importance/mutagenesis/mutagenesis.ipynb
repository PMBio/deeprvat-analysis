{
 "cells": [
  {
   "cell_type": "markdown",
   "id": "5f03ac0f-d9bf-4509-bd3e-f8d1812e0076",
   "metadata": {},
   "source": [
    "## Mutagenesis analysis for binary annotations"
   ]
  },
  {
   "cell_type": "code",
   "execution_count": null,
   "id": "13fa8de7-7770-4b8e-802d-c914a72978ff",
   "metadata": {},
   "outputs": [],
   "source": [
    "import autoreload\n",
    "%load_ext autoreload\n",
    "%autoreload 1"
   ]
  },
  {
   "cell_type": "code",
   "execution_count": null,
   "id": "801df199-437b-49ad-9205-24158dbff95e",
   "metadata": {},
   "outputs": [],
   "source": [
    "import numpy as np\n",
    "import pandas as pd\n",
    "import pandas.api.types as pdtypes\n",
    "import glob\n",
    "import pickle\n",
    "import os\n",
    "from plotnine import *\n",
    "import utils"
   ]
  },
  {
   "cell_type": "markdown",
   "id": "b5857b65-97d5-4196-a055-3d5ccd481547",
   "metadata": {},
   "source": [
    "### Generating the aggregated csv file"
   ]
  },
  {
   "cell_type": "markdown",
   "id": "208713fd-ab71-4451-bca2-a1c96ea14d54",
   "metadata": {},
   "source": [
    "  * You first need to run `mutate.snakefile` to be able to run the below script. Snakemake pipeline will generate 11 directories (e.g. `annot_4`... `annot_14`) corresponding to 11 binary annotations, each containing mutagenesis difference scores for 6 repeats of the model. The below script will aggregate these scores across repeats. \n",
    "\n",
    "  * You can skip the below script and directly jump to `Feature importance analysis` part if you just want to re-generate the plots in the paper from the pre-computed  `per_pheno_importance.csv` file. \n"
   ]
  },
  {
   "cell_type": "code",
   "execution_count": null,
   "id": "bc4bbb21-4e18-40ea-9190-aa1c874955e8",
   "metadata": {},
   "outputs": [],
   "source": [
    "# provide your own path \n",
    "path_to_deeprvat_analysis = ''\n",
    "exp_dir = f'{path_to_deeprvat_analysis}/deeprvat-analysis/feature_importance/mutagenesis'\n",
    "\n",
    "if not os.path.exists(f'{exp_dir}/per_pheno_importance.csv'):\n",
    "    binary_annots = pd.DataFrame()\n",
    "    for annot_dir in glob.glob(f'{exp_dir}/annot*/'):\n",
    "        annot_code = os.path.basename(annot_dir[:-1])\n",
    "\n",
    "        df_results = pd.DataFrame()\n",
    "        for i, repeat_f in enumerate(glob.glob(f'{annot_dir}/*.pkl')):\n",
    "            with open(repeat_f, 'rb') as f:\n",
    "                dict_pheno_results = pickle.load(f)\n",
    "                pheno_results = [val[0] \n",
    "                                   for val in list(dict_pheno_results.values())]\n",
    "                df_results[f'repeat_{i}'] = pheno_results\n",
    "                df_results.index = list(dict_pheno_results.keys())\n",
    "\n",
    "        average= np.mean(df_results[df_results.columns], axis=1)\n",
    "        df_results[utils.BINARY_ANNOTATIONS[annot_code]] = average\n",
    "        binary_annots = pd.concat([binary_annots, \n",
    "                            df_results[utils.BINARY_ANNOTATIONS[annot_code]]], axis=1)\n",
    "    binary_annots.to_csv(f'{exp_dir}/per_pheno_importance.csv')"
   ]
  },
  {
   "cell_type": "markdown",
   "id": "408917ba-ad38-4c8b-8ea5-0b50f4481ee2",
   "metadata": {},
   "source": [
    "### Feature importance analysis"
   ]
  },
  {
   "cell_type": "code",
   "execution_count": null,
   "id": "2b27c20c-8c12-481d-964f-c22758c41225",
   "metadata": {},
   "outputs": [],
   "source": [
    "binary_annots = pd.read_csv(f'{exp_dir}/per_pheno_importance.csv')\n",
    "binary_annots = binary_annots.set_index(list(binary_annots)[0])"
   ]
  },
  {
   "cell_type": "code",
   "execution_count": null,
   "id": "31e0be7a-3d0a-492a-b8de-a39a1e8296b7",
   "metadata": {},
   "outputs": [],
   "source": [
    "across_pheno_avg = binary_annots.mean(axis=0).to_frame().T\n",
    "annots_relative = across_pheno_avg.div(across_pheno_avg.max(axis=1), axis=0).T\n",
    "annots_relative = annots_relative.rename(columns={0: 'relative_importance'})\n",
    "annots_relative = annots_relative.merge(across_pheno_avg.T, \n",
    "                                        left_index=True, right_index=True)\n",
    "annots_relative = annots_relative.rename(columns={0: 'value_importance'})\n",
    "annots_relative['annotation'] = annots_relative.index\n",
    "annots_relative = utils.add_plot_helper_columns(annots_relative)"
   ]
  },
  {
   "cell_type": "code",
   "execution_count": null,
   "id": "3324bbe5-04b1-4286-9561-334e80af3186",
   "metadata": {},
   "outputs": [],
   "source": [
    "## aggregating individual annotations to categories\n",
    "annots_category = annots_relative.groupby(['anno_category']).mean()\n",
    "annots_category['relative_importance'] = annots_category['value_importance'].div(\n",
    "                            annots_category['value_importance'].max(), axis=0)\n",
    "annots_category['category'] = annots_category.index"
   ]
  },
  {
   "cell_type": "markdown",
   "id": "83511b8b-0638-4908-a325-939361ab9499",
   "metadata": {},
   "source": [
    "#### Plots"
   ]
  },
  {
   "cell_type": "code",
   "execution_count": null,
   "id": "cd97d702-f693-436d-856c-2802fd5c21b3",
   "metadata": {},
   "outputs": [],
   "source": [
    "plot_font = element_text(size = 8, family = \"Helvetica\")"
   ]
  },
  {
   "cell_type": "code",
   "execution_count": null,
   "id": "d4796560-c320-4d35-97d0-09066f0c5787",
   "metadata": {},
   "outputs": [],
   "source": [
    "p = ( ggplot(annots_relative, \n",
    "                   aes(x='reorder(anno_print, anno_code)', y='relative_importance', \n",
    "                           fill='annotation'))\n",
    "            + geom_bar(stat = 'identity')\n",
    "            + theme_classic()\n",
    "            + theme(axis_text_x=element_text(rotation=45, hjust=1),\n",
    "                    #text=element_text(size=20),\n",
    "                    figure_size=(10, 8),\n",
    "                    text = plot_font,\n",
    "                    axis_text = plot_font,\n",
    "                    axis_title = plot_font,\n",
    "                    legend_title=element_blank(),\n",
    "                    legend_position='top'\n",
    "                   )\n",
    "            + scale_fill_manual(values=utils.BINARY_ANNO_COLOR_INDV_LIST, \n",
    "                               breaks = list(utils.BINARY_ANNOTATION_CODES.keys()),\n",
    "                               labels = list(utils.BINARY_ANNOTATION_CATEGORIES.values()),\n",
    "                               )\n",
    "            + labs(x='Binary annotation', y='Relative |absolute difference|')\n",
    "        )\n",
    "ggsave(plot=p, filename=f'{exp_dir}/binary_importance_by_annotation.pdf', \n",
    "                   limitsize=False, verbose = False)"
   ]
  },
  {
   "cell_type": "markdown",
   "id": "e5d3d66a-9a9c-410c-9864-77dddc1494ad",
   "metadata": {},
   "source": [
    "#### Aggregate by annotation group"
   ]
  },
  {
   "cell_type": "code",
   "execution_count": null,
   "id": "a9ddac50-392d-442f-95f6-ac59651c235a",
   "metadata": {},
   "outputs": [],
   "source": [
    "p = (ggplot(annots_category, \n",
    "                   aes(x='reorder(category, anno_code)', y='relative_importance', \n",
    "                           fill='category'))\n",
    "            + geom_bar(stat = 'identity')\n",
    "            + theme_classic()\n",
    "            + theme(axis_text_x=element_text(rotation=45, hjust=1),\n",
    "                    #text=element_text(size=20),\n",
    "                    figure_size=(10, 8),\n",
    "                    text = plot_font,\n",
    "                    axis_text = plot_font,\n",
    "                    axis_title = plot_font,\n",
    "                    legend_title=element_blank(),\n",
    "                    legend_position='none'\n",
    "                   )\n",
    "            + scale_fill_manual(values=utils.BINARY_ANNO_COLOR_GROUP_LIST, \n",
    "                               breaks = ['Protein function', 'pLof', 'Splicing', 'Inframe indels'],\n",
    "                               labels = ['Protein function', 'pLof', 'Splicing', 'Inframe indels'],\n",
    "                               #guide=True\n",
    "                               )\n",
    "            + labs(x='Binary annotation groups',\n",
    "                   y='Relative |average absolute difference per category|')\n",
    "        )\n",
    "ggsave(plot=p, filename=f'{exp_dir}/binary_importance_by_category.pdf', \n",
    "                   limitsize=False, verbose = False)"
   ]
  },
  {
   "cell_type": "code",
   "execution_count": null,
   "id": "44f71778-bcba-4b7e-b8f4-c6752adb16da",
   "metadata": {},
   "outputs": [],
   "source": [
    "# the end. "
   ]
  }
 ],
 "metadata": {
  "kernelspec": {
   "display_name": "krtadpy38",
   "language": "python",
   "name": "krtadpy38"
  },
  "language_info": {
   "codemirror_mode": {
    "name": "ipython",
    "version": 3
   },
   "file_extension": ".py",
   "mimetype": "text/x-python",
   "name": "python",
   "nbconvert_exporter": "python",
   "pygments_lexer": "ipython3",
   "version": "3.8.10"
  }
 },
 "nbformat": 4,
 "nbformat_minor": 5
}
