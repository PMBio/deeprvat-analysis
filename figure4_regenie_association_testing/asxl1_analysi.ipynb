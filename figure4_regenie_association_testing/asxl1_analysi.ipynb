{
 "cells": [
  {
   "cell_type": "markdown",
   "id": "b06b76f5-1b08-463e-b610-d1c007890512",
   "metadata": {},
   "source": [
    "# ASXL1 analysis\n",
    "Check individuals with heart failure for variants known to be implicated known mutations in CH or lymphoid and myeloid cancer in the ASXL1 gene"
   ]
  },
  {
   "cell_type": "code",
   "execution_count": 40,
   "id": "02d1fb88-dd34-4dc4-8599-67b21c99d31f",
   "metadata": {},
   "outputs": [],
   "source": [
    "import pandas as pd\n",
    "import pickle\n",
    "import numpy as np\n",
    "import h5py"
   ]
  },
  {
   "cell_type": "code",
   "execution_count": 41,
   "id": "cd5ab4e8-adc7-41c8-8f15-36a4f15cca4f",
   "metadata": {},
   "outputs": [],
   "source": [
    "query_gene_id =  #put in gene id of ASXL1 as assigned by the preprocessing pipeline\n",
    "gt_filename = 'genotypes.h5' #genotypes as returned by the DeepRVAT preprocessing pipeline\n",
    "annotation_file = 'annotations.parquet' #variant annotations as returned by the DeepRVAT annotation pipeline\n",
    "known_variant_ids_file = 'known_ids.parquet' #ids of variants known to be implicated known mutations in CH3 or lymphoid and myeloid cancer\n",
    "burden_file = \"asxl1_burdens.parquet\" #extracted burdens of ASXL1 extracted for all individuals with heart failure\n"
   ]
  },
  {
   "cell_type": "code",
   "execution_count": 2,
   "id": "0c79d675-030e-44e9-9143-d6af5a75927b",
   "metadata": {},
   "outputs": [],
   "source": [
    "b = pd.read_parquet() #burdens for samples with hear failure\n",
    "b = b.sort_values('ASXL1', ascending = False)\\\n",
    "    .reset_index().reset_index().drop(columns = 'index').rename(columns = {'level_0': 'rank'})"
   ]
  },
  {
   "cell_type": "code",
   "execution_count": 4,
   "id": "87b4433d-ba2d-4044-8183-34507822693d",
   "metadata": {
    "tags": []
   },
   "outputs": [],
   "source": [
    "annos = pd.read_parquet(annotation_file)\n",
    "annos = annos.set_index('id')"
   ]
  },
  {
   "cell_type": "code",
   "execution_count": 42,
   "id": "ae55807f-67e9-4608-8dee-145895a8d7e2",
   "metadata": {},
   "outputs": [
    {
     "data": {
      "text/plain": [
       "2380"
      ]
     },
     "execution_count": 42,
     "metadata": {},
     "output_type": "execute_result"
    }
   ],
   "source": [
    "vars_to_keep = list(annos.query('UKB_MAF < 0.001 & gene_id ==@query_gene_id').index)\n",
    "len(vars_to_keep)"
   ]
  },
  {
   "cell_type": "code",
   "execution_count": 13,
   "id": "f3fb8f52-79f2-4a07-8410-909e799f01a3",
   "metadata": {
    "tags": []
   },
   "outputs": [],
   "source": [
    "gt_filename = 'genotypes.h5'\n",
    "gt_file = h5py.File(gt_filename, \"r\")\n",
    "variant_matrix = gt_file[\"variant_matrix\"][:]\n",
    "genotype_matrix = gt_file[\"genotype_matrix\"][:]\n",
    "samples = gt_file[\"samples\"][:]\n",
    "samples  = np.array([item.decode(\"utf-8\") for item in samples])"
   ]
  },
  {
   "cell_type": "code",
   "execution_count": 8,
   "id": "4ae31dcc-1c1c-43aa-aa9c-1c85d9ca173b",
   "metadata": {},
   "outputs": [],
   "source": [
    "known_ids = pd.read_parquet(known_variant_ids_file) #\n",
    "known_ids = set(known_ids['id'])"
   ]
  },
  {
   "cell_type": "code",
   "execution_count": 39,
   "id": "36f420f4-97a4-40e9-8e68-eaa6787b3946",
   "metadata": {
    "tags": []
   },
   "outputs": [
    {
     "data": {
      "text/plain": [
       "118"
      ]
     },
     "execution_count": 39,
     "metadata": {},
     "output_type": "execute_result"
    }
   ],
   "source": [
    "len(known_ids)"
   ]
  },
  {
   "cell_type": "code",
   "execution_count": 14,
   "id": "c65f0d82-5429-4f36-a5ba-e14bc5b64570",
   "metadata": {},
   "outputs": [],
   "source": [
    "samples_oi = [int(i) for i in b['sample_id']]\n",
    "res_dict = {}\n",
    "for sample_oi in samples_oi:\n",
    "    sample_idx = np.where(samples == f'{sample_oi}')[0][0]\n",
    "    this_vars = set(variant_matrix[sample_idx]).intersection(vars_to_keep)\n",
    "    inters_known = this_vars.intersection(known_ids)\n",
    "    has_known = True if len(inters_known) > 0 else False\n",
    "    res_dict[sample_oi] = has_known"
   ]
  },
  {
   "cell_type": "code",
   "execution_count": 15,
   "id": "44489dcf-4521-4146-9389-d5e0f79745ab",
   "metadata": {},
   "outputs": [],
   "source": [
    "has_known_df = pd.DataFrame({'sample_id': res_dict.keys(), 'has_known_variant': res_dict.values()})\n",
    "has_known_df = b.merge(has_known_df, how = 'left')\n"
   ]
  },
  {
   "cell_type": "code",
   "execution_count": 28,
   "id": "6d3f11e0-7b5e-49fe-b0d1-b3d1abdac7d5",
   "metadata": {},
   "outputs": [],
   "source": [
    "has_known_df.to_parquet(\"burdens_with_has_known.parquet\") #export data for plotting with R"
   ]
  }
 ],
 "metadata": {
  "kernelspec": {
   "display_name": "genopheno2",
   "language": "python",
   "name": "genopheno2"
  },
  "language_info": {
   "codemirror_mode": {
    "name": "ipython",
    "version": 3
   },
   "file_extension": ".py",
   "mimetype": "text/x-python",
   "name": "python",
   "nbconvert_exporter": "python",
   "pygments_lexer": "ipython3",
   "version": "3.8.10"
  }
 },
 "nbformat": 4,
 "nbformat_minor": 5
}
